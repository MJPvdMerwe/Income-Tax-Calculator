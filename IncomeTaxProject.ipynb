{
 "cells": [
  {
   "cell_type": "markdown",
   "metadata": {},
   "source": [
    "## 2020 tax year (1 March 2019 - 29 February 2020) - No changes from the previous year"
   ]
  },
  {
   "cell_type": "markdown",
   "metadata": {},
   "source": [
    "|Taxable income (R)\t|Rates of tax (R)|\n",
    "|------------------------|--------------------------------------------------|\n",
    "|1 – 195 850|\t18% of taxable income|\n",
    "|------------------------|--------------------------------------------------|\n",
    "|195 851 – 305 850|\t35 253 + 26% of taxable income above 195 850|\n",
    "|------------------------|--------------------------------------------------|\n",
    "|305 851 – 423 300|\t63 853 + 31% of taxable income above 305 850|\n",
    "|------------------------|--------------------------------------------------|\n",
    "|423 301 – 555 600|\t100 263 + 36% of taxable income above 423 300|\n",
    "|------------------------|--------------------------------------------------|\n",
    "|555 601 – 708 310|\t147 891 + 39% of taxable income above 555 600|\n",
    "|------------------------|--------------------------------------------------|\n",
    "|708 311 – 1 500 000| 207 448 + 41% of taxable income above 708 310|\n",
    "|------------------------|--------------------------------------------------|\n",
    "|1 500 001 and above| 532 041 + 45% of taxable income above 1 500 000|"
   ]
  },
  {
   "cell_type": "code",
   "execution_count": 15,
   "metadata": {},
   "outputs": [
    {
     "name": "stdout",
     "output_type": "stream",
     "text": [
      "Enter the income: 840000\n",
      "With an income of R840,000.00 the income tax payable is R261,440.90\n",
      "Effective tax rate: 31.12%\n"
     ]
    }
   ],
   "source": [
    "#Calculate the South African Income Tax payable\n",
    "\n",
    "# Tax brackets 2020\n",
    "LIMIT_1 =195850\n",
    "LIMIT_2 =305850\n",
    "LIMIT_3 =423300\n",
    "LIMIT_4 =555600\n",
    "LIMIT_5 =708310\n",
    "LIMIT_6 =1500000\n",
    "LIMIT_7 =1500001\n",
    "\n",
    "# Tax Rates\n",
    "FIXED2 = 35253\n",
    "FIXED3 = 63853\n",
    "FIXED4 = 100263\n",
    "FIXED5 = 147891\n",
    "FIXED6 = 207448\n",
    "FIXED7 = 532041\n",
    "\n",
    "RATE1 = 0.18\n",
    "RATE2 = 0.26\n",
    "RATE3 = 0.31\n",
    "RATE4 = 0.36\n",
    "RATE5 = 0.39\n",
    "RATE6 = 0.41\n",
    "RATE7 = 0.45\n",
    "\n",
    "#Input the income from the user\n",
    "income = float(input(\"Enter the income: \"))\n",
    "\n",
    "#Compute the amount of tax payable\n",
    "if income < LIMIT_1:\n",
    "    tax = income * RATE1\n",
    "elif income < LIMIT_2:\n",
    "    tax = ((income - LIMIT_1)*RATE2)+FIXED2\n",
    "elif income < LIMIT_3:\n",
    "    tax = ((income - LIMIT_2)*RATE3)+FIXED3\n",
    "elif income < LIMIT_4:\n",
    "    tax =((income - LIMIT_3)*RATE4)+FIXED4\n",
    "elif income < LIMIT_5:\n",
    "    tax = ((income - LIMIT_4)*RATE5)+FIXED5\n",
    "elif income < LIMIT_6:\n",
    "    tax = ((income - LIMIT_5)*RATE6)+FIXED6\n",
    "else:\n",
    "    tax = ((income - LIMIT_6)*RATE7)+FIXED7\n",
    "    \n",
    "#Display the result\n",
    "print(\"With an income of R\" + format(income, \",.2f\"),\n",
    "     \"the income tax payable is R\" + format(tax, \",.2f\"))\n",
    "\n",
    "print(\"Effective tax rate: \"+\"{:.2%}\".format(tax/income))\n",
    "\n",
    "#print((tax/income)*100)"
   ]
  },
  {
   "cell_type": "code",
   "execution_count": null,
   "metadata": {},
   "outputs": [],
   "source": []
  }
 ],
 "metadata": {
  "kernelspec": {
   "display_name": "Python 3",
   "language": "python",
   "name": "python3"
  },
  "language_info": {
   "codemirror_mode": {
    "name": "ipython",
    "version": 3
   },
   "file_extension": ".py",
   "mimetype": "text/x-python",
   "name": "python",
   "nbconvert_exporter": "python",
   "pygments_lexer": "ipython3",
   "version": "3.7.5"
  }
 },
 "nbformat": 4,
 "nbformat_minor": 2
}
